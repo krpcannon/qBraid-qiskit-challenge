{
 "cells": [
  {
   "cell_type": "code",
   "execution_count": 1,
   "metadata": {
    "collapsed": true
   },
   "outputs": [],
   "source": [
    "from qiskit import qiskit, execute, QuantumCircuit, Aer, assemble, QuantumRegister, opflow\n",
    "from qiskit.quantum_info import Statevector\n",
    "from qiskit.circuit.random import random_circuit\n",
    "import numpy\n",
    "import datetime"
   ]
  },
  {
   "cell_type": "code",
   "execution_count": 2,
   "metadata": {
    "collapsed": false
   },
   "outputs": [],
   "source": [
    "def CircuitReversal(qc):\n",
    "\n",
    "    f = open(\"circuit_source_\"+str(datetime.datetime.now())+\".py\", \"x\")\n",
    "    \n",
    "    f.write(\"# thanks ryan, its been fun. \\n\")\n",
    "    f.write(\"# from qiskit import QuantumRegister, QuantumCircuit, opflow \\n\")\n",
    "    f.write(\"# import numpy \\n\")\n",
    "\n",
    "    \n",
    "    depth = qc.depth()\n",
    "    \n",
    "    \n",
    "    f.write(\"new_qreg_q = QuantumRegister(\"+str(depth)+\", 'q') \\n\" \n",
    "            \"new_qcircuit = QuantumCircuit(new_qreg_q) \\n \\n\")\n",
    "    \n",
    "    \n",
    "    for i in qc.data:\n",
    "        \n",
    "        #Taking attributes from the instructions: name of the gate and its parameters.\n",
    "        name = i.operation.name\n",
    "        params = i.operation.params\n",
    "        \n",
    "        #Setting params to 0 \n",
    "        param1 = 0\n",
    "        param2 = 0 \n",
    "        param3 = 0\n",
    "        param4 = 0\n",
    "        \n",
    "        \n",
    "        \n",
    "        qubit_operand_1 = i.qubits[0].index\n",
    "        \n",
    "        #It is 'trying' below in case 2nd and 3rd qubit are not defined\n",
    "        try:\n",
    "            qubit_operand_2 = i.qubits[1].index\n",
    "        except:\n",
    "            pass\n",
    "        \n",
    "        try:\n",
    "            qubit_operand_3 = i.qubits[2].index\n",
    "        except:\n",
    "            pass\n",
    "        \n",
    "        try:\n",
    "            param1 = params[0]\n",
    "            param2 = params[1]\n",
    "            param3 = params[2]\n",
    "            param4 = params[3]\n",
    "        except:\n",
    "            pass\n",
    "\n",
    "                        \n",
    "        #Grouping add gate methods according to qubit and parameter inputs. More work needs to be done re: thinking\n",
    "        #About speed/efficiency\n",
    "        \n",
    "        \n",
    "        if name in ['h', 'sxdg', 'i', 'sx', 'x', 'y', 's', 't', 'sdg', 'tdg', 'z']:\n",
    "            f.write(\"new_qcircuit.\"+str(name)+\"(\"+str(qubit_operand_1)+\") \\n\")\n",
    "            \n",
    "        elif name in ['cx', 'ecr', 'csx', 'swap', 'dcx', 'ch', 'cy', 'cz', 'cs', 'csdg', 'iswap']:\n",
    "            f.write(\"new_qcircuit.\"+str(name)+\"(\"+str(qubit_operand_1)+\", \"+str(qubit_operand_2)+\") \\n\")\n",
    "            \n",
    "        elif name in ['ryy', 'crx', 'cry', 'crz', 'cp', 'rxx', 'rzz', 'rzx']:\n",
    "            f.write(\"new_qcircuit.\"+str(name)+\"(\"+str(param1)+\", \"+str(qubit_operand_1)+\", \"+str(qubit_operand_2)+\") \\n\")\n",
    "                 \n",
    "        elif name in ['ccx', 'cswap', 'ccz', 'rccx']:\n",
    "            f.write(\"new_qcircuit.\"+str(name)+\"(\"+str(qubit_operand_1)+\", \"+str(qubit_operand_2)+\", \"+str(qubit_operand_3)+\") \\n\")\n",
    "        \n",
    "        elif name in ['rz', 'p', 'rx', 'ry'] :\n",
    "            f.write(\"new_qcircuit.\"+str(name)+\"(\"+str(param1)+\", \"+str(qubit_operand_1)+\") \\n\")\n",
    "            \n",
    "        elif name == 'u1':\n",
    "            f.write(\"new_qcircuit.u(0, 0, \"+str(param1)+\", \"+str(qubit_operand_1)+\") \\n\")        \n",
    "            \n",
    "        elif name == 'u2':\n",
    "            f.write(\"new_qcircuit.u((numpy.pi/2)), \"+str(param1)+\", \"+str(param2)+\", \"+str(qubit_operand_1)+\") \\n\")\n",
    "            \n",
    "        elif name in ['u', 'u3']:\n",
    "            f.write(\"new_qcircuit.u(\"+str(param1)+\", \"+str(param2)+\", \"+str(param3)+\", \"+str(qubit_operand_1)+\") \\n\")\n",
    "            \n",
    "        elif name == 'r':\n",
    "            f.write(\"new_qcircuit.\"+str(name)+\"(\"+str(param1)+\", \"+str(param2)+\", \"+str(qubit_operand_1)+\") \\n\")\n",
    "        \n",
    "        elif name == 'cu3':\n",
    "        #there should be 3 parameters for cu3 - 4 listed here\n",
    "            f.write(\"new_qcircuit.\"+str(name)+\"(\"+str(param1)+\", \"+str(param2)+\", \"+str(param3)+\", \"+str(param4)+\", \"+str(qubit_operand_1)+\", \"+str(qubit_operand_2)+\") \\n\")\n",
    "\n",
    "        elif name == 'cu':\n",
    "            f.write(\"new_qcircuit.\"+str(name)+\"(\"+str(param1)+\", \"+str(param2)+\", \"+str(param3)+\", \"+str(param4)+\", \"+str(qubit_operand_1)+\", \"+str(qubit_operand_2)+\") \\n\")\n",
    "        \n",
    "    \n",
    "        #elif name == 'cu1':\n",
    "        #    f.write(\"new_qcircuit.cu1(\"+str(param1)+\", \"+str(qubit_operand_1)+\", \"+str(qubit_operand_2)+\") \\n\")\n",
    "    \n",
    "        #need to debug CU!!\n",
    "        \n",
    "       # if name == 'xx_minus_yy':\n",
    "       #     new_qcircuit.xx_minus_yy(param1, param2, qubit_operand_1, qubit_operand_2)\n",
    "            \n",
    "            \n",
    "       #  if name == 'xx_plus_yy':\n",
    "       #      new_qcircuit.xx_plus_yy(param1, param2, qubit_operand_1, qubit_operand_2)\n",
    "        \n",
    "       # need opflow   \n",
    "                    \n",
    "\n",
    "        #4 qubit gates (max operands for randomcircuit function)\n",
    "        \n",
    "        #f.close()\n",
    "        \n",
    "    f.write(\"new_qcircuit.draw()\")\n",
    "        \n",
    "    print(\"Done.\")"
   ]
  },
  {
   "cell_type": "code",
   "execution_count": 3,
   "metadata": {
    "collapsed": false
   },
   "outputs": [
    {
     "data": {
      "text/html": [
       "<pre style=\"word-wrap: normal;white-space: pre;background: #fff0;line-height: 1.1;font-family: &quot;Courier New&quot;,Courier,monospace\">                  ┌────────────┐┌───┐\n",
       "q_0: ──■──────────┤ Ry(2.0641) ├┤ X ├\n",
       "     ┌─┴─┐┌──────┐└─────┬──────┘└─┬─┘\n",
       "q_1: ┤ S ├┤ √Xdg ├──────┼─────────■──\n",
       "     ├───┤└──────┘      │         │  \n",
       "q_2: ┤ X ├──────────────■─────────■──\n",
       "     └───┘                           </pre>"
      ],
      "text/plain": [
       "                  ┌────────────┐┌───┐\n",
       "q_0: ──■──────────┤ Ry(2.0641) ├┤ X ├\n",
       "     ┌─┴─┐┌──────┐└─────┬──────┘└─┬─┘\n",
       "q_1: ┤ S ├┤ √Xdg ├──────┼─────────■──\n",
       "     ├───┤└──────┘      │         │  \n",
       "q_2: ┤ X ├──────────────■─────────■──\n",
       "     └───┘                           "
      ]
     },
     "execution_count": 3,
     "metadata": {},
     "output_type": "execute_result"
    }
   ],
   "source": [
    "qc = random_circuit(num_qubits=3, depth=3)\n",
    "qc.draw()"
   ]
  },
  {
   "cell_type": "code",
   "execution_count": 4,
   "metadata": {
    "collapsed": false
   },
   "outputs": [
    {
     "name": "stdout",
     "output_type": "stream",
     "text": [
      "Done.\n"
     ]
    },
    {
     "name": "stderr",
     "output_type": "stream",
     "text": [
      "/var/folders/df/kqdm_fnn70lbsz3jhptnq25h0000gn/T/ipykernel_36165/3541774819.py:31: DeprecationWarning: Back-references to from Bit instances to their containing Registers have been deprecated. Instead, inspect Registers to find their contained Bits.\n",
      "  qubit_operand_1 = i.qubits[0].index\n",
      "/var/folders/df/kqdm_fnn70lbsz3jhptnq25h0000gn/T/ipykernel_36165/3541774819.py:35: DeprecationWarning: Back-references to from Bit instances to their containing Registers have been deprecated. Instead, inspect Registers to find their contained Bits.\n",
      "  qubit_operand_2 = i.qubits[1].index\n",
      "/var/folders/df/kqdm_fnn70lbsz3jhptnq25h0000gn/T/ipykernel_36165/3541774819.py:40: DeprecationWarning: Back-references to from Bit instances to their containing Registers have been deprecated. Instead, inspect Registers to find their contained Bits.\n",
      "  qubit_operand_3 = i.qubits[2].index\n"
     ]
    }
   ],
   "source": [
    "CircuitReversal(qc)"
   ]
  },
  {
   "cell_type": "code",
   "execution_count": 32,
   "metadata": {
    "collapsed": false,
    "scrolled": true
   },
   "outputs": [
    {
     "name": "stdout",
     "output_type": "stream",
     "text": [
      "ecr\n",
      "u1\n",
      "cu1\n",
      "tdg\n",
      "cs\n",
      "p\n"
     ]
    }
   ],
   "source": [
    "#for i in qc.data:\n",
    "#    print(i.operation.name)"
   ]
  },
  {
   "cell_type": "code",
   "execution_count": 5,
   "metadata": {
    "collapsed": false
   },
   "outputs": [
    {
     "data": {
      "text/html": [
       "<pre style=\"word-wrap: normal;white-space: pre;background: #fff0;line-height: 1.1;font-family: &quot;Courier New&quot;,Courier,monospace\">                  ┌────────────┐┌───┐\n",
       "q_0: ──■──────────┤ Ry(2.0641) ├┤ X ├\n",
       "     ┌─┴─┐┌──────┐└─────┬──────┘└─┬─┘\n",
       "q_1: ┤ S ├┤ √Xdg ├──────┼─────────■──\n",
       "     ├───┤└──────┘      │         │  \n",
       "q_2: ┤ X ├──────────────■─────────■──\n",
       "     └───┘                           </pre>"
      ],
      "text/plain": [
       "                  ┌────────────┐┌───┐\n",
       "q_0: ──■──────────┤ Ry(2.0641) ├┤ X ├\n",
       "     ┌─┴─┐┌──────┐└─────┬──────┘└─┬─┘\n",
       "q_1: ┤ S ├┤ √Xdg ├──────┼─────────■──\n",
       "     ├───┤└──────┘      │         │  \n",
       "q_2: ┤ X ├──────────────■─────────■──\n",
       "     └───┘                           "
      ]
     },
     "execution_count": 5,
     "metadata": {},
     "output_type": "execute_result"
    }
   ],
   "source": [
    "new_qreg_q = QuantumRegister(3, 'q') \n",
    "new_qcircuit = QuantumCircuit(new_qreg_q) \n",
    " \n",
    "new_qcircuit.cs(0, 1) \n",
    "new_qcircuit.x(2) \n",
    "new_qcircuit.sxdg(1) \n",
    "new_qcircuit.cry(2.0641107716967806, 2, 0) \n",
    "new_qcircuit.ccx(1, 2, 0) \n",
    "new_qcircuit.draw()"
   ]
  },
  {
   "cell_type": "code",
   "execution_count": null,
   "metadata": {
    "collapsed": true
   },
   "outputs": [],
   "source": []
  }
 ],
 "metadata": {
  "kernelspec": {
   "display_name": "QBRAID_CHALLENGE",
   "language": "python",
   "name": "qbraid_challenge"
  },
  "language_info": {
   "codemirror_mode": {
    "name": "ipython",
    "version": 3
   },
   "file_extension": ".py",
   "mimetype": "text/x-python",
   "name": "python",
   "nbconvert_exporter": "python",
   "pygments_lexer": "ipython3",
   "version": "3.8.16"
  }
 },
 "nbformat": 4,
 "nbformat_minor": 2
}
